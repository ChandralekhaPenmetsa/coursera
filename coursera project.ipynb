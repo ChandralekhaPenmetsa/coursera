{
 "cells": [
  {
   "cell_type": "code",
   "execution_count": 3,
   "id": "b79cbced",
   "metadata": {},
   "outputs": [
    {
     "name": "stdout",
     "output_type": "stream",
     "text": [
      "IBM Watson Studio\n"
     ]
    }
   ],
   "source": [
    "print(\"IBM Watson Studio\")"
   ]
  },
  {
   "cell_type": "code",
   "execution_count": 4,
   "id": "235e0df1",
   "metadata": {},
   "outputs": [
    {
     "name": "stdout",
     "output_type": "stream",
     "text": [
      "Student - PENMETSA CHANDRA LEKHA\n"
     ]
    }
   ],
   "source": [
    "print(\"Student - PENMETSA CHANDRA LEKHA\")"
   ]
  },
  {
   "cell_type": "code",
   "execution_count": 5,
   "id": "cccfb8cb",
   "metadata": {},
   "outputs": [
    {
     "name": "stdout",
     "output_type": "stream",
     "text": [
      "I find this data science course very useful and interesting\n"
     ]
    }
   ],
   "source": [
    "print(\"I find this data science course very useful and interesting\")"
   ]
  },
  {
   "cell_type": "code",
   "execution_count": null,
   "id": "77e23c4f",
   "metadata": {},
   "outputs": [],
   "source": []
  }
 ],
 "metadata": {
  "kernelspec": {
   "display_name": "Python 3 (ipykernel)",
   "language": "python",
   "name": "python3"
  },
  "language_info": {
   "codemirror_mode": {
    "name": "ipython",
    "version": 3
   },
   "file_extension": ".py",
   "mimetype": "text/x-python",
   "name": "python",
   "nbconvert_exporter": "python",
   "pygments_lexer": "ipython3",
   "version": "3.9.7"
  }
 },
 "nbformat": 4,
 "nbformat_minor": 5
}
